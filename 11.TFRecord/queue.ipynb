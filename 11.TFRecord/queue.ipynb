{
 "cells": [
  {
   "cell_type": "code",
   "execution_count": 2,
   "metadata": {
    "collapsed": true
   },
   "outputs": [],
   "source": [
    "import tensorflow as tf\n",
    "import numpy as np"
   ]
  },
  {
   "cell_type": "code",
   "execution_count": 3,
   "metadata": {
    "collapsed": true
   },
   "outputs": [],
   "source": [
    "#create session and graph\n",
    "graph=tf.Graph()\n",
    "session=tf.Session(graph=graph)"
   ]
  },
  {
   "cell_type": "markdown",
   "metadata": {},
   "source": [
    "# FIFOQueue"
   ]
  },
  {
   "cell_type": "code",
   "execution_count": 33,
   "metadata": {
    "collapsed": true
   },
   "outputs": [],
   "source": [
    "with graph.as_default():\n",
    "    \n",
    "    #create a queue\n",
    "    queue=tf.FIFOQueue(capacity=5,dtypes=tf.float32)\n",
    "    \n",
    "    #enqueue\n",
    "    enqueue1=queue.enqueue(vals=([[1,2],[3,4]],))\n",
    "    \n",
    "    #size\n",
    "    size1=queue.size()\n",
    "    \n",
    "    #dequeue\n",
    "    element1=queue.dequeue()\n",
    "    \n",
    "    #size\n",
    "    size2=queue.size()\n",
    "    \n",
    "    #enqueue_many\n",
    "    enqueue2=queue.enqueue_many(vals=([[1,2],[3,4]],))\n",
    "    \n",
    "    #size\n",
    "    size3=queue.size()\n",
    "    \n",
    "    \n",
    "    \n",
    "    \n",
    "    "
   ]
  },
  {
   "cell_type": "code",
   "execution_count": 34,
   "metadata": {},
   "outputs": [
    {
     "name": "stdout",
     "output_type": "stream",
     "text": [
      "1\n",
      "[[ 1.  2.]\n",
      " [ 3.  4.]]\n",
      "0\n",
      "2\n"
     ]
    }
   ],
   "source": [
    "with session.as_default():\n",
    "    #run enqueue1\n",
    "    enqueue1.run()\n",
    "    \n",
    "    #run size\n",
    "    s1=session.run(size1)\n",
    "    print(s1)\n",
    "    \n",
    "    #run dequeue\n",
    "    e1=session.run(element1)\n",
    "    print(e1)\n",
    "    \n",
    "    #run size\n",
    "    s2=session.run(size2)\n",
    "    print(s2)\n",
    "    \n",
    "    #run enqueue1\n",
    "    enqueue2.run()\n",
    "    \n",
    "     #run size\n",
    "    s3=session.run(size3)\n",
    "    print(s3)\n",
    "    \n",
    "    "
   ]
  },
  {
   "cell_type": "code",
   "execution_count": null,
   "metadata": {
    "collapsed": true
   },
   "outputs": [],
   "source": []
  },
  {
   "cell_type": "code",
   "execution_count": null,
   "metadata": {
    "collapsed": true
   },
   "outputs": [],
   "source": []
  },
  {
   "cell_type": "code",
   "execution_count": null,
   "metadata": {
    "collapsed": true
   },
   "outputs": [],
   "source": []
  }
 ],
 "metadata": {
  "anaconda-cloud": {},
  "kernelspec": {
   "display_name": "Python [conda root]",
   "language": "python",
   "name": "conda-root-py"
  },
  "language_info": {
   "codemirror_mode": {
    "name": "ipython",
    "version": 3
   },
   "file_extension": ".py",
   "mimetype": "text/x-python",
   "name": "python",
   "nbconvert_exporter": "python",
   "pygments_lexer": "ipython3",
   "version": "3.5.2"
  }
 },
 "nbformat": 4,
 "nbformat_minor": 1
}
